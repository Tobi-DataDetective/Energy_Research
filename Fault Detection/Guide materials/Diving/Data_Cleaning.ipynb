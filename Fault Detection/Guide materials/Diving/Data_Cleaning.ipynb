{
 "cells": [
  {
   "cell_type": "code",
   "execution_count": null,
   "metadata": {
    "executionInfo": {
     "elapsed": 5259,
     "status": "ok",
     "timestamp": 1685015047288,
     "user": {
      "displayName": "Tobi F.",
      "userId": "02521758501082542803"
     },
     "user_tz": -60
    },
    "id": "Lzh-VLT4C7Ez"
   },
   "outputs": [],
   "source": [
    "import pandas as pd\n",
    "import numpy as np\n",
    "import warnings\n",
    "import matplotlib as mpl\n",
    "import matplotlib.pyplot as plt\n",
    "import datetime\n",
    "from datetime import datetime\n",
    "from pandas import Timestamp\n",
    "warnings.filterwarnings(\"ignore\")\n",
    "\n",
    "\n",
    "# import tensorflow as tf\n",
    "# from tensorflow import keras\n",
    "import seaborn as sns\n",
    "from pylab import rcParams\n",
    "from matplotlib import rc \n",
    "import plotly.express as px\n",
    "from pandas.plotting import register_matplotlib_converters\n",
    "\n",
    "%matplotlib inline\n",
    "%config InlineBackend.figure_format='retina'\n",
    "sns.set(style='whitegrid', palette='muted', font_scale=1.5)\n",
    "\n",
    "\n",
    "rcParams['figure.figsize'] = 22, 10\n",
    "\n",
    "# RANDOM_SEED = 42\n",
    "\n",
    "# np.random.seed(RANDOM_SEED)\n",
    "# tf.random.set_seed(RANDOM_SEED)"
   ]
  },
  {
   "cell_type": "code",
   "execution_count": null,
   "metadata": {
    "executionInfo": {
     "elapsed": 2129,
     "status": "ok",
     "timestamp": 1685015683874,
     "user": {
      "displayName": "Tobi F.",
      "userId": "02521758501082542803"
     },
     "user_tz": -60
    },
    "id": "wMTOkg4JFCkr"
   },
   "outputs": [],
   "source": [
    "df = pd.read_csv('df.csv')\n",
    "df"
   ]
  },
  {
   "cell_type": "code",
   "execution_count": null,
   "metadata": {
    "colab": {
     "base_uri": "https://localhost:8080/",
     "height": 423
    },
    "executionInfo": {
     "elapsed": 608,
     "status": "ok",
     "timestamp": 1685015580455,
     "user": {
      "displayName": "Tobi F.",
      "userId": "02521758501082542803"
     },
     "user_tz": -60
    },
    "id": "gYv6ohILFNaH",
    "outputId": "c5624df7-169f-4b99-fe82-7cd32e082220"
   },
   "outputs": [],
   "source": [
    "dfIavg_A = df[['Time','Iavg_A']]\n",
    "dfIavg_A"
   ]
  },
  {
   "cell_type": "code",
   "execution_count": null,
   "metadata": {
    "colab": {
     "base_uri": "https://localhost:8080/",
     "height": 423
    },
    "executionInfo": {
     "elapsed": 704,
     "status": "ok",
     "timestamp": 1685015615856,
     "user": {
      "displayName": "Tobi F.",
      "userId": "02521758501082542803"
     },
     "user_tz": -60
    },
    "id": "7-HCExxCDV3z",
    "outputId": "becac696-cdc1-4298-bf6e-7e80b13bbba2"
   },
   "outputs": [],
   "source": [
    "\n",
    "\n",
    "def hourly_time(df):\n",
    "    # Convert the \"Time\" column to datetime format\n",
    "    df['Time'] = pd.to_datetime(df['Time'])\n",
    "    \n",
    "    df.sort_values(by='Time', inplace=True)\n",
    "\n",
    "    # Set the \"Time\" column as the index\n",
    "    df.set_index('Time', inplace=True)\n",
    "\n",
    "    # Resample the DataFrame on an hourly basis and take the average of \"Vnavg_V\"\n",
    "    hourly_df = df.resample('H').mean()\n",
    "\n",
    "    # Reset the index to include the hourly timestamps\n",
    "    hourly_df.reset_index(inplace=True)\n",
    "\n",
    "    return hourly_df\n",
    "\n",
    "\n",
    "dfIavg_A_Hourly = hourly_time(dfIavg_A)\n",
    "dfIavg_A_Hourly"
   ]
  },
  {
   "cell_type": "code",
   "execution_count": null,
   "metadata": {
    "colab": {
     "base_uri": "https://localhost:8080/",
     "height": 423
    },
    "id": "TdZsbdI6Dcv7",
    "outputId": "54bdbe31-3f6c-4b29-8778-5bf645a1eb44"
   },
   "outputs": [],
   "source": [
    "# import pandas as pd\n",
    "df = pd.read_csv('df.csv')\n",
    "\n",
    "dfIavg_A = df[['Time','Iavg_A']]\n",
    "\n",
    "\n",
    "def thirty_minute_interval(df):\n",
    "    # Convert the \"Time\" column to datetime format\n",
    "    df['Time'] = pd.to_datetime(df['Time'])\n",
    "    df.sort_values(by='Time', inplace=True)\n",
    "    \n",
    "\n",
    "    # Set the \"Time\" column as the index\n",
    "    df.set_index('Time', inplace=True)\n",
    "\n",
    "    # Resample the DataFrame on a 30-minute basis and take the average of \"Vnavg_V\"\n",
    "    interval_df = df.resample('30T').mean()\n",
    "\n",
    "    # Reset the index to include the 30-minute timestamps\n",
    "    interval_df.reset_index(inplace=True)\n",
    "\n",
    "    return interval_df\n",
    "    \n",
    "\n",
    "dfIavg_A_30T = thirty_minute_interval(dfIavg_A)\n",
    "dfIavg_A_30T"
   ]
  },
  {
   "cell_type": "code",
   "execution_count": null,
   "metadata": {
    "id": "YBUUBDm8DjXM"
   },
   "outputs": [],
   "source": [
    "dfIavg_A_30T.to_csv('dfIavg_A_30T.csv', index=False)"
   ]
  },
  {
   "cell_type": "code",
   "execution_count": null,
   "metadata": {
    "id": "Ao5qjMEPEXO1"
   },
   "outputs": [],
   "source": [
    "dfIavg_A_Hourly.to_csv('dfIavg_A_Hourly.csv', index=False)"
   ]
  },
  {
   "cell_type": "code",
   "execution_count": null,
   "metadata": {
    "id": "Q_AWUqF2KArQ"
   },
   "outputs": [],
   "source": [
    "pd.read_csv('dfIavg_A_Hourly.csv')"
   ]
  },
  {
   "cell_type": "code",
   "execution_count": null,
   "metadata": {},
   "outputs": [],
   "source": []
  }
 ],
 "metadata": {
  "colab": {
   "provenance": []
  },
  "kernelspec": {
   "display_name": "Python 3 (ipykernel)",
   "language": "python",
   "name": "python3"
  },
  "language_info": {
   "codemirror_mode": {
    "name": "ipython",
    "version": 3
   },
   "file_extension": ".py",
   "mimetype": "text/x-python",
   "name": "python",
   "nbconvert_exporter": "python",
   "pygments_lexer": "ipython3",
   "version": "3.9.12"
  }
 },
 "nbformat": 4,
 "nbformat_minor": 1
}
