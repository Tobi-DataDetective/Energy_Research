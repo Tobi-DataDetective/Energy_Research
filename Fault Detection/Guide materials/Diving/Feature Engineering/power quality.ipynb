{
 "cells": [
  {
   "cell_type": "raw",
   "id": "10db93ba",
   "metadata": {
    "id": "10db93ba"
   },
   "source": [
    "https://medium.com/machine-learning-bites/machine-learning-unsupervised-learning-feature-selection-a9bdccd70f95"
   ]
  },
  {
   "cell_type": "code",
   "execution_count": null,
   "id": "_Qa1nIRNzp4S",
   "metadata": {
    "executionInfo": {
     "elapsed": 2139,
     "status": "ok",
     "timestamp": 1685544399623,
     "user": {
      "displayName": "Tobi F.",
      "userId": "02521758501082542803"
     },
     "user_tz": -60
    },
    "id": "_Qa1nIRNzp4S"
   },
   "outputs": [],
   "source": [
    "import glob\n",
    "import pandas as pd\n",
    "import os\n",
    "# os.chdir(\"/content/drive/Shareddrives/Data Team/Fault Detection/Guide materials/Diving\")\n",
    "# G:\\Shared drives\\Data Team\\Fault Detection\\Guide materials\\Diving\n",
    "\n",
    "\n",
    "import numpy as np\n",
    "import pandas as pd\n",
    "import matplotlib.pyplot as plt\n",
    "import seaborn as sns\n",
    "import warnings\n",
    "\n",
    "warnings.filterwarnings('ignore')\n",
    "%matplotlib inline\n",
    "from sklearn.model_selection import train_test_split\n",
    "\n",
    "\n",
    "import matplotlib as mpl\n",
    "import matplotlib.pyplot as plt\n",
    "import numpy as np\n",
    "import os\n",
    "from datetime import datetime\n",
    "import pandas as pd\n",
    "import plotly.express as px\n",
    "\n",
    "mpl.rcParams['figure.figsize'] = (10,8)\n",
    "mpl.rcParams['axes.grid'] = False"
   ]
  },
  {
   "cell_type": "code",
   "execution_count": null,
   "id": "Rh9c4EdXz6lL",
   "metadata": {
    "colab": {
     "base_uri": "https://localhost:8080/"
    },
    "executionInfo": {
     "elapsed": 35299,
     "status": "ok",
     "timestamp": 1685544391903,
     "user": {
      "displayName": "Tobi F.",
      "userId": "02521758501082542803"
     },
     "user_tz": -60
    },
    "id": "Rh9c4EdXz6lL",
    "outputId": "14b1842b-11c7-4aa8-c9b8-73db6f6f9cc1"
   },
   "outputs": [],
   "source": [
    "from google.colab import drive\n",
    "drive.mount('/content/drive')"
   ]
  },
  {
   "cell_type": "code",
   "execution_count": null,
   "id": "221e707d",
   "metadata": {
    "executionInfo": {
     "elapsed": 2689,
     "status": "ok",
     "timestamp": 1685544406480,
     "user": {
      "displayName": "Tobi F.",
      "userId": "02521758501082542803"
     },
     "user_tz": -60
    },
    "id": "221e707d"
   },
   "outputs": [],
   "source": [
    "import numpy as np\n",
    "import pandas as pd\n",
    "import warnings\n",
    "\n",
    "warnings.filterwarnings('ignore')\n",
    "from sklearn.model_selection import train_test_split\n",
    "from sklearn.feature_selection import VarianceThreshold"
   ]
  },
  {
   "cell_type": "code",
   "execution_count": null,
   "id": "0WqIgshZylkj",
   "metadata": {
    "id": "0WqIgshZylkj"
   },
   "outputs": [],
   "source": []
  },
  {
   "cell_type": "code",
   "execution_count": null,
   "id": "509f3d4d",
   "metadata": {
    "colab": {
     "base_uri": "https://localhost:8080/",
     "height": 328
    },
    "executionInfo": {
     "elapsed": 674,
     "status": "error",
     "timestamp": 1685544441080,
     "user": {
      "displayName": "Tobi F.",
      "userId": "02521758501082542803"
     },
     "user_tz": -60
    },
    "id": "509f3d4d",
    "outputId": "0e2682a5-75d2-4829-f551-0824ab9cc8c2"
   },
   "outputs": [],
   "source": [
    "#import the data set\n",
    "df = pd.read_csv(\"G:\\\\Shared drives\\\\Data Team\\\\Fault Detection\\\\Guide materials\\\\Diving\\\\total_power_quality.csv\")"
   ]
  },
  {
   "cell_type": "code",
   "execution_count": null,
   "id": "D_pbp0Ig2SjS",
   "metadata": {
    "colab": {
     "background_save": true
    },
    "id": "D_pbp0Ig2SjS",
    "outputId": "05b1f822-e364-48ed-ba4d-b933d4488569"
   },
   "outputs": [],
   "source": [
    "df.fillna(df.mean(), inplace=True)\n",
    "df"
   ]
  },
  {
   "cell_type": "code",
   "execution_count": null,
   "id": "db218d85",
   "metadata": {
    "colab": {
     "base_uri": "https://localhost:8080/"
    },
    "executionInfo": {
     "elapsed": 19,
     "status": "ok",
     "timestamp": 1685102538572,
     "user": {
      "displayName": "Tobi F.",
      "userId": "02521758501082542803"
     },
     "user_tz": -60
    },
    "id": "db218d85",
    "outputId": "eb22b95a-90ff-4801-d177-33b2784c7dc9",
    "scrolled": false
   },
   "outputs": [],
   "source": [
    "list(df.columns)"
   ]
  },
  {
   "cell_type": "code",
   "execution_count": null,
   "id": "71e40f6f",
   "metadata": {
    "colab": {
     "background_save": true
    },
    "id": "71e40f6f"
   },
   "outputs": [],
   "source": [
    "main = df[['Time','Freq_Hz',\n",
    " 'Va_V',\n",
    " 'Vb_V',\n",
    " 'Vc_V',\n",
    " 'Vnavg_V',\n",
    " 'Vab_V',\n",
    " 'Vbc_V',\n",
    " 'Vca_V',\n",
    " 'Vlavg_V',\n",
    " 'Ia_A',\n",
    " 'Ib_A',\n",
    " 'Ic_A',\n",
    " 'Iavg_A',\n",
    " 'PFa',\n",
    " 'PFb',\n",
    " 'PFc',\n",
    " 'PF',\n",
    " 'I001_A',\n",
    " 'PF001',\n",
    " 'I002_A',\n",
    " 'PF002',\n",
    " 'I003_A',\n",
    " 'PF003',\n",
    " 'I004_A',\n",
    " 'PF004',\n",
    " 'I005_A',\n",
    " 'PF005',\n",
    " 'I006_A',\n",
    " 'PF006',\n",
    " 'I007_A',\n",
    " 'PF007',\n",
    " 'I008_A',\n",
    " 'PF008',\n",
    " 'I009_A',\n",
    " 'PF009',\n",
    " 'PFs1',\n",
    " 'PFs2',\n",
    " 'PFs3',\n",
    " 'Pa_kW',\n",
    " 'Pb_kW',\n",
    " 'Pc_kW',\n",
    " 'P_kW',\n",
    " 'Qa_kvar',\n",
    " 'Qb_kvar',\n",
    " 'Qc_kvar',\n",
    " 'Q_kvar',\n",
    " 'Sa_kVA',\n",
    " 'Sb_kVA',\n",
    " 'Sc_kVA',\n",
    " 'S_kVA',\n",
    " 'P001_kW',\n",
    " 'Q001_kvar',\n",
    " 'S001_kVA',\n",
    " 'P002_kW',\n",
    " 'Q002_kvar',\n",
    " 'S002_kVA',\n",
    " 'P003_kW',\n",
    " 'Q003_kvar',\n",
    " 'S003_kVA',\n",
    " 'P004_kW',\n",
    " 'Q004_kvar',\n",
    " 'S004_kVA',\n",
    " 'P005_kW',\n",
    " 'Q005_kvar',\n",
    " 'S005_kVA',\n",
    " 'P006_kW',\n",
    " 'Q006_kvar',\n",
    " 'S006_kVA',\n",
    " 'P007_kW',\n",
    " 'Q007_kvar',\n",
    " 'S007_kVA',\n",
    " 'P008_kW',\n",
    " 'Q008_kvar',\n",
    " 'S008_kVA',\n",
    " 'P009_kW',\n",
    " 'Q009_kvar',\n",
    " 'S009_kVA',\n",
    " 'Ps1_kW',\n",
    " 'Qs1_kvar',\n",
    " 'Ss1_kVA',\n",
    " 'Ps2_kW',\n",
    " 'Qs2_kvar',\n",
    " 'Ss2_kVA',\n",
    " 'Ps3_kW',\n",
    " 'Qs3_kvar',\n",
    " 'Ss3_kVA']]"
   ]
  },
  {
   "cell_type": "code",
   "execution_count": null,
   "id": "8fd92d35",
   "metadata": {
    "colab": {
     "base_uri": "https://localhost:8080/",
     "height": 424
    },
    "executionInfo": {
     "elapsed": 14,
     "status": "ok",
     "timestamp": 1685102539169,
     "user": {
      "displayName": "Tobi F.",
      "userId": "02521758501082542803"
     },
     "user_tz": -60
    },
    "id": "8fd92d35",
    "outputId": "2fe01c4f-25eb-45c0-a9a8-0b401469b4cb"
   },
   "outputs": [],
   "source": [
    "main"
   ]
  },
  {
   "cell_type": "code",
   "execution_count": null,
   "id": "f8d0a49f",
   "metadata": {
    "id": "f8d0a49f"
   },
   "outputs": [],
   "source": [
    "main.fillna(main.mean(), inplace=True)"
   ]
  },
  {
   "cell_type": "raw",
   "id": "fdbd8a4b",
   "metadata": {
    "id": "fdbd8a4b"
   },
   "source": [
    "Constant Features\n",
    "Constant features are those that show the same value, just one value, for all the observations of the dataset. These feature ofthen rovides no information that allows a machine learning model to discriminate or predict a target"
   ]
  },
  {
   "cell_type": "markdown",
   "id": "2c2cca55",
   "metadata": {
    "id": "2c2cca55"
   },
   "source": [
    "USING THE VARIANCE THRESHOLD FROM SKLEARN"
   ]
  },
  {
   "cell_type": "code",
   "execution_count": null,
   "id": "5ebf5d3f",
   "metadata": {
    "colab": {
     "base_uri": "https://localhost:8080/"
    },
    "executionInfo": {
     "elapsed": 12,
     "status": "ok",
     "timestamp": 1685102540132,
     "user": {
      "displayName": "Tobi F.",
      "userId": "02521758501082542803"
     },
     "user_tz": -60
    },
    "id": "5ebf5d3f",
    "outputId": "54665b66-d6bc-406f-aee0-acae132afe45"
   },
   "outputs": [],
   "source": [
    "train_size = int(len(main) * 0.95)\n",
    "test_size = len(main) - train_size\n",
    "train, test = main.iloc[0:train_size], main.iloc[train_size:len(main)]\n",
    "print(train.shape, test.shape)"
   ]
  },
  {
   "cell_type": "code",
   "execution_count": null,
   "id": "ef548cf7",
   "metadata": {
    "id": "ef548cf7"
   },
   "outputs": [],
   "source": [
    "# train.to_csv('train.csv', index=False)\n",
    "# test.to_csv('test.csv', index=False)"
   ]
  },
  {
   "cell_type": "code",
   "execution_count": null,
   "id": "7c97e574",
   "metadata": {
    "colab": {
     "base_uri": "https://localhost:8080/"
    },
    "executionInfo": {
     "elapsed": 843,
     "status": "ok",
     "timestamp": 1685102540967,
     "user": {
      "displayName": "Tobi F.",
      "userId": "02521758501082542803"
     },
     "user_tz": -60
    },
    "id": "7c97e574",
    "outputId": "ab4ebdbc-78a1-410d-8651-79f69ae0f94e"
   },
   "outputs": [],
   "source": [
    "model_thres = VarianceThreshold(threshold=0)\n",
    "model_thres.fit(train)\n",
    "sum(model_thres.get_support())"
   ]
  },
  {
   "cell_type": "code",
   "execution_count": null,
   "id": "e0591cfc",
   "metadata": {
    "id": "e0591cfc"
   },
   "outputs": [],
   "source": [
    "constant_features = [feature for feature in train.columns \n",
    "    if train[feature].std() == 0]"
   ]
  },
  {
   "cell_type": "code",
   "execution_count": null,
   "id": "5d7708ef",
   "metadata": {
    "colab": {
     "base_uri": "https://localhost:8080/"
    },
    "executionInfo": {
     "elapsed": 10,
     "status": "ok",
     "timestamp": 1685102542005,
     "user": {
      "displayName": "Tobi F.",
      "userId": "02521758501082542803"
     },
     "user_tz": -60
    },
    "id": "5d7708ef",
    "outputId": "4bdef0cb-1922-4aa1-e973-572e6c538900"
   },
   "outputs": [],
   "source": [
    "train.drop(labels=constant_features, axis=1, inplace=True)\n",
    "test.drop(labels=constant_features, axis=1, inplace=True)\n",
    "\n",
    "train.shape, test.shape"
   ]
  },
  {
   "cell_type": "raw",
   "id": "6037eb7a",
   "metadata": {
    "id": "6037eb7a"
   },
   "source": [
    "Quasi-constant Features\n",
    "Quasi-constant features are thoose that show the same value for the great majority of the observation of the dataset."
   ]
  },
  {
   "cell_type": "code",
   "execution_count": null,
   "id": "e7ca2d49",
   "metadata": {
    "colab": {
     "base_uri": "https://localhost:8080/"
    },
    "executionInfo": {
     "elapsed": 1350,
     "status": "ok",
     "timestamp": 1685102543348,
     "user": {
      "displayName": "Tobi F.",
      "userId": "02521758501082542803"
     },
     "user_tz": -60
    },
    "id": "e7ca2d49",
    "outputId": "626c4fec-1bba-4dd1-ddda-efbdd3a17103"
   },
   "outputs": [],
   "source": [
    "train_size = int(len(main) * 0.95)\n",
    "test_size = len(main) - train_size\n",
    "train, test = main.iloc[0:train_size], main.iloc[train_size:len(main)]\n",
    "print(train.shape, test.shape)\n",
    "\n",
    "# removing constant features as done in the previous section\n",
    "# where constant_feature is a list of all the features with constant variables\n",
    "constant_features = [feature for feature in train.columns \n",
    "    if train[feature].std() == 0] # 1 indicates only 1 category is been available\n",
    "\n",
    "# droping this features from the Train and Test data sets\n",
    "train.drop(labels=constant_features, axis=1, inplace=True)\n",
    "test.drop(labels=constant_features, axis=1, inplace=True)\n",
    "\n",
    "train.shape, test.shape\n",
    "\n",
    "model_quasi = VarianceThreshold(threshold=0.01) # i.e 99% of observations approximately \n",
    "model_quasi.fit(train)\n",
    "\n",
    "# printing out the quasi constant features\n",
    "print(\n",
    "    len([\n",
    "        x for x in train.columns\n",
    "        if x not in train.columns[model_quasi.get_support()]\n",
    "    ]))\n",
    "[x for x in train.columns if x not in train.columns[model_quasi.get_support()]]"
   ]
  },
  {
   "cell_type": "code",
   "execution_count": null,
   "id": "aa7f2a42",
   "metadata": {
    "colab": {
     "base_uri": "https://localhost:8080/"
    },
    "executionInfo": {
     "elapsed": 1014,
     "status": "ok",
     "timestamp": 1685102544356,
     "user": {
      "displayName": "Tobi F.",
      "userId": "02521758501082542803"
     },
     "user_tz": -60
    },
    "id": "aa7f2a42",
    "outputId": "16366f4f-d60b-4ae9-bf40-d8e36f0942a8"
   },
   "outputs": [],
   "source": [
    "train = model_quasi.transform(train)\n",
    "test = model_quasi.transform(test)\n",
    "\n",
    "train.shape, test.shape"
   ]
  },
  {
   "cell_type": "raw",
   "id": "0b8f1670",
   "metadata": {
    "id": "0b8f1670"
   },
   "source": [
    "Correlation\n",
    "Correlation feature selection evaluates subsets of features on the basis of the following hypothesis: \"Good feature subsets contains features highly correlated with the target, yet uncorrelated to each other\"."
   ]
  },
  {
   "cell_type": "code",
   "execution_count": null,
   "id": "e396bb11",
   "metadata": {
    "id": "e396bb11"
   },
   "outputs": [],
   "source": [
    "import numpy as np\n",
    "import pandas as pd\n",
    "import matplotlib.pyplot as plt\n",
    "import seaborn as sns\n",
    "import warnings\n",
    "\n",
    "warnings.filterwarnings('ignore')\n",
    "%matplotlib inline\n",
    "from sklearn.model_selection import train_test_split"
   ]
  },
  {
   "cell_type": "code",
   "execution_count": null,
   "id": "f7071462",
   "metadata": {
    "colab": {
     "base_uri": "https://localhost:8080/",
     "height": 424
    },
    "executionInfo": {
     "elapsed": 21,
     "status": "ok",
     "timestamp": 1685102544358,
     "user": {
      "displayName": "Tobi F.",
      "userId": "02521758501082542803"
     },
     "user_tz": -60
    },
    "id": "f7071462",
    "outputId": "f950236c-6fab-4639-a211-4655dd917b10"
   },
   "outputs": [],
   "source": [
    "main"
   ]
  },
  {
   "cell_type": "code",
   "execution_count": null,
   "id": "4ba3115b",
   "metadata": {
    "colab": {
     "base_uri": "https://localhost:8080/"
    },
    "executionInfo": {
     "elapsed": 20,
     "status": "ok",
     "timestamp": 1685102544358,
     "user": {
      "displayName": "Tobi F.",
      "userId": "02521758501082542803"
     },
     "user_tz": -60
    },
    "id": "4ba3115b",
    "outputId": "0fb82b05-b2cf-4576-92fb-331b635e6c54"
   },
   "outputs": [],
   "source": [
    "train_size = int(len(main) * 0.95)\n",
    "test_size = len(main) - train_size\n",
    "train, test = main.iloc[0:train_size], main.iloc[train_size:len(main)]\n",
    "print(train.shape, test.shape)"
   ]
  },
  {
   "cell_type": "code",
   "execution_count": null,
   "id": "9e3adbdc",
   "metadata": {
    "colab": {
     "base_uri": "https://localhost:8080/",
     "height": 760
    },
    "executionInfo": {
     "elapsed": 18106,
     "status": "ok",
     "timestamp": 1685102562448,
     "user": {
      "displayName": "Tobi F.",
      "userId": "02521758501082542803"
     },
     "user_tz": -60
    },
    "id": "9e3adbdc",
    "outputId": "1af0761f-b414-4c73-8826-ad92e6ff6e46"
   },
   "outputs": [],
   "source": [
    "plt.figure(figsize=(8,8))\n",
    "sns.heatmap(train.corr())"
   ]
  },
  {
   "cell_type": "raw",
   "id": "cf7bc3a6",
   "metadata": {
    "id": "cf7bc3a6"
   },
   "source": [
    "Brute Force Approach"
   ]
  },
  {
   "cell_type": "code",
   "execution_count": null,
   "id": "aff2aa76",
   "metadata": {
    "colab": {
     "base_uri": "https://localhost:8080/"
    },
    "executionInfo": {
     "elapsed": 15359,
     "status": "ok",
     "timestamp": 1685102577741,
     "user": {
      "displayName": "Tobi F.",
      "userId": "02521758501082542803"
     },
     "user_tz": -60
    },
    "id": "aff2aa76",
    "outputId": "34da00cd-18e8-4e20-855d-a2a688be45b8"
   },
   "outputs": [],
   "source": [
    "# find and remove correlated features\n",
    "def correlation(dataset, threshold):\n",
    "    col_corr = set()  # Set of all the names of correlated columns\n",
    "    corr_matrix = dataset.corr()\n",
    "    for i in range(len(corr_matrix.columns)):\n",
    "        for j in range(i):\n",
    "            if (corr_matrix.iloc[i, j]) > threshold: # we are interested in absolute coeff value\n",
    "                colname = corr_matrix.columns[i]  # getting the name of column\n",
    "                col_corr.add(colname)\n",
    "    return col_corr\n",
    "\n",
    "corr_features = correlation(train, 0.7) #drops features with correlation of 0.8 above\n",
    "print('correlated features: ', len(set(corr_features)) )"
   ]
  },
  {
   "cell_type": "code",
   "execution_count": null,
   "id": "e63073bc",
   "metadata": {
    "colab": {
     "base_uri": "https://localhost:8080/"
    },
    "executionInfo": {
     "elapsed": 16,
     "status": "ok",
     "timestamp": 1685102577741,
     "user": {
      "displayName": "Tobi F.",
      "userId": "02521758501082542803"
     },
     "user_tz": -60
    },
    "id": "e63073bc",
    "outputId": "26f50d74-716a-44a1-b526-d96d04327e41"
   },
   "outputs": [],
   "source": [
    "corr_features"
   ]
  },
  {
   "cell_type": "code",
   "execution_count": null,
   "id": "8a7e4a24",
   "metadata": {
    "colab": {
     "base_uri": "https://localhost:8080/"
    },
    "executionInfo": {
     "elapsed": 15,
     "status": "ok",
     "timestamp": 1685102577742,
     "user": {
      "displayName": "Tobi F.",
      "userId": "02521758501082542803"
     },
     "user_tz": -60
    },
    "id": "8a7e4a24",
    "outputId": "a961e487-cea5-4699-cdac-4dfc99920e78"
   },
   "outputs": [],
   "source": [
    "train.drop(labels=corr_features, axis=1, inplace=True)\n",
    "test.drop(labels=corr_features, axis=1, inplace=True)\n",
    "\n",
    "train.shape, test.shape"
   ]
  },
  {
   "cell_type": "code",
   "execution_count": null,
   "id": "583d6a9b",
   "metadata": {
    "colab": {
     "base_uri": "https://localhost:8080/"
    },
    "executionInfo": {
     "elapsed": 12,
     "status": "ok",
     "timestamp": 1685102577742,
     "user": {
      "displayName": "Tobi F.",
      "userId": "02521758501082542803"
     },
     "user_tz": -60
    },
    "id": "583d6a9b",
    "outputId": "bbba7ccb-1d1a-459f-8294-3f994a81bf49"
   },
   "outputs": [],
   "source": [
    "main.drop(columns=list(corr_features)).columns"
   ]
  },
  {
   "cell_type": "code",
   "execution_count": null,
   "id": "298c7187",
   "metadata": {
    "id": "298c7187"
   },
   "outputs": [],
   "source": []
  },
  {
   "cell_type": "code",
   "execution_count": null,
   "id": "8b015132",
   "metadata": {
    "id": "8b015132"
   },
   "outputs": [],
   "source": []
  },
  {
   "cell_type": "code",
   "execution_count": null,
   "id": "493c37fe",
   "metadata": {
    "id": "493c37fe"
   },
   "outputs": [],
   "source": []
  },
  {
   "cell_type": "code",
   "execution_count": null,
   "id": "4e426a94",
   "metadata": {
    "id": "4e426a94"
   },
   "outputs": [],
   "source": []
  },
  {
   "cell_type": "code",
   "execution_count": null,
   "id": "c1f1b814",
   "metadata": {
    "colab": {
     "base_uri": "https://localhost:8080/"
    },
    "executionInfo": {
     "elapsed": 16923,
     "status": "ok",
     "timestamp": 1685102594656,
     "user": {
      "displayName": "Tobi F.",
      "userId": "02521758501082542803"
     },
     "user_tz": -60
    },
    "id": "c1f1b814",
    "outputId": "a3693982-9e27-418e-83e0-4356a3e4e2e4"
   },
   "outputs": [],
   "source": [
    "import pandas as pd\n",
    "import numpy as np\n",
    "\n",
    "# Load the dataset\n",
    "df = main  # Replace 'your_dataset.csv' with the actual file path\n",
    "\n",
    "# Select only the numerical columns for correlation analysis\n",
    "numerical_cols = df.select_dtypes(include=np.number)\n",
    "\n",
    "# Calculate the correlation matrix\n",
    "corr_matrix = numerical_cols.corr()\n",
    "\n",
    "# Set the threshold for correlation coefficient\n",
    "threshold = 0.8\n",
    "\n",
    "# Find highly correlated features\n",
    "highly_correlated = []\n",
    "for i in range(len(corr_matrix.columns)):\n",
    "    for j in range(i):\n",
    "        if abs(corr_matrix.iloc[i, j]) > threshold:\n",
    "            colname_i = corr_matrix.columns[i]\n",
    "            colname_j = corr_matrix.columns[j]\n",
    "            highly_correlated.append((colname_i, colname_j))\n",
    "\n",
    "# Remove highly correlated features\n",
    "selected_features = list(set(numerical_cols.columns) - set([col for col, _ in highly_correlated]))\n",
    "\n",
    "# Print the selected features\n",
    "print(\"Selected features:\")\n",
    "print(selected_features)\n",
    "print(len(selected_features))\n"
   ]
  },
  {
   "cell_type": "code",
   "execution_count": null,
   "id": "ce464ec0",
   "metadata": {
    "colab": {
     "base_uri": "https://localhost:8080/"
    },
    "executionInfo": {
     "elapsed": 678,
     "status": "ok",
     "timestamp": 1685102595319,
     "user": {
      "displayName": "Tobi F.",
      "userId": "02521758501082542803"
     },
     "user_tz": -60
    },
    "id": "ce464ec0",
    "outputId": "c8976393-90fd-44ff-c4c8-dcfc1dca1d7b"
   },
   "outputs": [],
   "source": [
    "import pandas as pd\n",
    "from sklearn.feature_selection import VarianceThreshold\n",
    "\n",
    "# Load the dataset\n",
    "df = main # Replace 'your_dataset.csv' with the actual file path\n",
    "\n",
    "# Select only the numerical columns for variance threshold\n",
    "numerical_cols = df.select_dtypes(include=np.number)\n",
    "\n",
    "# Set the threshold for variance\n",
    "threshold = 0.1\n",
    "\n",
    "# Apply variance threshold\n",
    "selector = VarianceThreshold(threshold=threshold)\n",
    "selector.fit(numerical_cols)\n",
    "\n",
    "# Get the selected features\n",
    "selected_features = numerical_cols.columns[selector.get_support(indices=True)]\n",
    "\n",
    "# Print the selected features\n",
    "print(\"Selected features:\")\n",
    "print(selected_features)\n",
    "print(len(selected_features))\n"
   ]
  },
  {
   "cell_type": "code",
   "execution_count": null,
   "id": "dccc40d6",
   "metadata": {
    "colab": {
     "base_uri": "https://localhost:8080/"
    },
    "executionInfo": {
     "elapsed": 16303,
     "status": "ok",
     "timestamp": 1685102611611,
     "user": {
      "displayName": "Tobi F.",
      "userId": "02521758501082542803"
     },
     "user_tz": -60
    },
    "id": "dccc40d6",
    "outputId": "1fa1fc90-fef8-4ef9-806c-b9f3a2c7f6f4"
   },
   "outputs": [],
   "source": [
    "import pandas as pd\n",
    "from sklearn.decomposition import PCA\n",
    "from sklearn.preprocessing import StandardScaler\n",
    "\n",
    "# Load the dataset\n",
    "df = main\n",
    "\n",
    "# Select only the numerical columns for PCA\n",
    "numerical_cols = df.select_dtypes(include=np.number)\n",
    "\n",
    "# Standardize the numerical data\n",
    "scaler = StandardScaler()\n",
    "numerical_cols_std = scaler.fit_transform(numerical_cols)\n",
    "\n",
    "# Apply PCA\n",
    "pca = PCA(n_components=0.95)  # Set the explained variance threshold (e.g., 0.95)\n",
    "numerical_cols_pca = pca.fit_transform(numerical_cols_std)\n",
    "\n",
    "# Get the selected features\n",
    "selected_features = [f\"PC{i+1}\" for i in range(numerical_cols_pca.shape[1])]\n",
    "\n",
    "# Print the selected features\n",
    "print(\"Selected features:\")\n",
    "print(selected_features)\n"
   ]
  },
  {
   "cell_type": "code",
   "execution_count": null,
   "id": "345eeac6",
   "metadata": {
    "colab": {
     "background_save": true
    },
    "id": "345eeac6",
    "outputId": "60b59950-a736-42a3-90de-076c632772db",
    "scrolled": true
   },
   "outputs": [],
   "source": [
    "import pandas as pd\n",
    "import numpy as np\n",
    "import matplotlib.pyplot as plt\n",
    "from statsmodels.tsa.stattools import adfuller\n",
    "from statsmodels.graphics.tsaplots import plot_acf, plot_pacf\n",
    "# df = main\n",
    "\n",
    "\n",
    "df['Time'] = pd.to_datetime(df['Time'])\n",
    "df.set_index('Time', inplace=True)\n",
    "for column in df.columns:\n",
    "    plt.figure(figsize=(10, 4))\n",
    "    plt.plot(df.index, df[column])\n",
    "    plt.xlabel('Time')\n",
    "    plt.ylabel(column)\n",
    "    plt.title('Time series of ' + column)\n",
    "    plt.show()\n"
   ]
  },
  {
   "cell_type": "code",
   "execution_count": null,
   "id": "2df2a8a1",
   "metadata": {},
   "outputs": [],
   "source": [
    "def plt_line_flow(y=str()):\n",
    "    fig = px.line(df.reset_index(), x ='Time', y=y, title=y)\n",
    "\n",
    "    fig.update_xaxes(\n",
    "        rangeslider_visible=True,\n",
    "        rangeselector = dict(\n",
    "            buttons = list([\n",
    "                dict(count=1, label=\"1y\", step=\"year\", stepmode=\"backward\"),\n",
    "                dict(count=1, label=\"2y\", step=\"year\", stepmode=\"backward\"),\n",
    "                dict(count=1, label=\"3y\", step=\"year\", stepmode=\"backward\"),\n",
    "                dict(step='all')\n",
    "            ])\n",
    "        )\n",
    "    )\n",
    "    return fig.show()"
   ]
  },
  {
   "cell_type": "code",
   "execution_count": null,
   "id": "4b78e104",
   "metadata": {
    "scrolled": true
   },
   "outputs": [],
   "source": [
    "plt_line_flow(\"I004_A\")"
   ]
  },
  {
   "cell_type": "code",
   "execution_count": null,
   "id": "e1c98adf",
   "metadata": {},
   "outputs": [],
   "source": []
  },
  {
   "cell_type": "code",
   "execution_count": null,
   "id": "248ee8dc",
   "metadata": {},
   "outputs": [],
   "source": [
    "plt_line_flow('Iavg_A')"
   ]
  },
  {
   "cell_type": "code",
   "execution_count": null,
   "id": "5447199f",
   "metadata": {},
   "outputs": [],
   "source": [
    "plt_line_flow('gen1_kW')"
   ]
  },
  {
   "cell_type": "code",
   "execution_count": null,
   "id": "1e7b885e",
   "metadata": {},
   "outputs": [],
   "source": [
    "plt_line_flow('Ib_A')"
   ]
  },
  {
   "cell_type": "code",
   "execution_count": null,
   "id": "77a07804",
   "metadata": {},
   "outputs": [],
   "source": [
    "plt_line_flow('Ic_A')"
   ]
  },
  {
   "cell_type": "code",
   "execution_count": null,
   "id": "dc83b42a",
   "metadata": {},
   "outputs": [],
   "source": []
  },
  {
   "cell_type": "code",
   "execution_count": null,
   "id": "4ff36727",
   "metadata": {},
   "outputs": [],
   "source": [
    "fig = px.scatter(df.reset_index(), x='Time',y='y', color='anomaly', title='Vnavg_V')\n",
    "\n",
    "fig.update_xaxes(\n",
    "    rangeslider_visible=True,\n",
    "    rangeselector = dict(\n",
    "        buttons = list([\n",
    "            dict(count=1, label=\"1y\", step=\"year\", stepmode=\"backward\"),\n",
    "            dict(count=1, label=\"2y\", step=\"year\", stepmode=\"backward\"),\n",
    "            dict(count=1, label=\"3y\", step=\"year\", stepmode=\"backward\"),\n",
    "            dict(step='all')\n",
    "        ])\n",
    "    )\n",
    ")\n",
    "fig.show()"
   ]
  },
  {
   "cell_type": "code",
   "execution_count": null,
   "id": "9787cbe4",
   "metadata": {
    "id": "9787cbe4"
   },
   "outputs": [],
   "source": [
    "def perform_adf_test(data):\n",
    "    result = adfuller(data)\n",
    "    print('ADF Statistic:', result[0])\n",
    "    print('p-value:', result[1])\n",
    "    print('Critical Values:')\n",
    "    for key, value in result[4].items():\n",
    "        print('\\t{}: {}'.format(key, value))\n",
    "    if result[0] > result[4]['5%']:\n",
    "        print('The time series is likely non-stationary.')\n",
    "    else:\n",
    "        print('The time series is likely stationary.')\n",
    "\n",
    "for column in df.columns:\n",
    "    print('Results for', column)\n",
    "    perform_adf_test(df[column])\n",
    "    print()\n"
   ]
  },
  {
   "cell_type": "code",
   "execution_count": null,
   "id": "7f06f01b",
   "metadata": {
    "id": "7f06f01b"
   },
   "outputs": [],
   "source": [
    "for column in df.columns:\n",
    "    fig, ax = plt.subplots(2, 1, figsize=(10, 6))\n",
    "    plot_acf(df[column], lags=50, ax=ax[0])\n",
    "    plot_pacf(df[column], lags=50, ax=ax[1])\n",
    "    ax[0].set_xlabel('Lags')\n",
    "    ax[0].set_ylabel('Autocorrelation')\n",
    "    ax[1].set_xlabel('Lags')\n",
    "    ax[1].set_ylabel('Partial Autocorrelation')\n",
    "    ax[0].set_title('Autocorrelation plot of ' + column)\n",
    "    ax[1].set_title('Partial Autocorrelation plot of ' + column)\n",
    "    plt.tight_layout()\n",
    "    plt.show()\n"
   ]
  },
  {
   "cell_type": "code",
   "execution_count": null,
   "id": "52XbRKOt3Poe",
   "metadata": {
    "id": "52XbRKOt3Poe"
   },
   "outputs": [],
   "source": []
  }
 ],
 "metadata": {
  "colab": {
   "provenance": []
  },
  "kernelspec": {
   "display_name": "Python 3 (ipykernel)",
   "language": "python",
   "name": "python3"
  },
  "language_info": {
   "codemirror_mode": {
    "name": "ipython",
    "version": 3
   },
   "file_extension": ".py",
   "mimetype": "text/x-python",
   "name": "python",
   "nbconvert_exporter": "python",
   "pygments_lexer": "ipython3",
   "version": "3.9.12"
  }
 },
 "nbformat": 4,
 "nbformat_minor": 5
}
